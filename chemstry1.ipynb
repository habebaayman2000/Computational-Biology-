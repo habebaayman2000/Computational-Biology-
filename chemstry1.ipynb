{
 "cells": [
  {
   "cell_type": "code",
   "execution_count": 1,
   "id": "4d42f6d7",
   "metadata": {},
   "outputs": [
    {
     "name": "stdout",
     "output_type": "stream",
     "text": [
      "Requirement already satisfied: pyopenms in c:\\users\\electronica care\\anaconda3\\envs\\notebook\\lib\\site-packages (2.7.0)\n",
      "Requirement already satisfied: numpy in c:\\users\\electronica care\\anaconda3\\envs\\notebook\\lib\\site-packages (from pyopenms) (1.20.3)\n"
     ]
    }
   ],
   "source": [
    "! pip install pyopenms"
   ]
  },
  {
   "cell_type": "code",
   "execution_count": 4,
   "id": "19f58bf6",
   "metadata": {},
   "outputs": [
    {
     "name": "stdout",
     "output_type": "stream",
     "text": [
      "Help on module pyopenms.Constants in pyopenms:\n",
      "\n",
      "NAME\n",
      "    pyopenms.Constants\n",
      "\n",
      "DESCRIPTION\n",
      "    # @brief Mathematical and physical constants namespace.\n",
      "    # \n",
      "    # This namespace contains definitions for some basic mathematical and physical constants.\n",
      "    # All constants are double precision.\n",
      "\n",
      "DATA\n",
      "    AVOGADRO = 6.0221367e+23\n",
      "    BOHR_RADIUS = 5.29177249e-11\n",
      "    BOLTZMANN = 1.380657e-23\n",
      "    C13C12_MASSDIFF_U = 1.0033548378\n",
      "    CAL_PER_JOULE = 0.2390057361376673\n",
      "    DEG_PER_RAD = 57.29577951308232\n",
      "    E = 2.718281828459045\n",
      "    ELECTRON_MASS = 9.1093897e-31\n",
      "    ELECTRON_MASS_U = 0.0005485799042984105\n",
      "    ELEMENTARY_CHARGE = 1.60217738e-19\n",
      "    EPSILON = 1e-06\n",
      "    F = 96485.31200007845\n",
      "    FARADAY = 96485.31200007845\n",
      "    FINE_STRUCTURE_CONSTANT = 0.00729735\n",
      "    FRAGMENT_ANNOTATION_USERPARAM = 'fragment_annotation'\n",
      "    GAS_CONSTANT = 8.314505189811898\n",
      "    GRAVITATIONAL_CONSTANT = 6.67259e-11\n",
      "    JOULE_PER_CAL = 4.184\n",
      "    MM_PER_INCH = 25.4\n",
      "    MOL = 6.0221367e+23\n",
      "    M_PER_FOOT = 3.048\n",
      "    NA = 6.0221367e+23\n",
      "    NEUTRON_MASS = 1.6749286e-27\n",
      "    NEUTRON_MASS_U = 1.00866491566\n",
      "    PI = 3.141592653589793\n",
      "    PLANCK = 6.6260754e-34\n",
      "    PRECURSOR_ERROR_PPM_USERPARAM = 'precursor_mz_error_ppm'\n",
      "    PROTON_MASS = 1.672623e-27\n",
      "    PROTON_MASS_U = 1.007276466771\n",
      "    R = 8.314505189811898\n",
      "    RAD_PER_DEG = 0.017453292519943295\n",
      "    SPEED_OF_LIGHT = 299792458.0\n",
      "    VACUUM_PERMEABILITY = 1.2566370614359173e-06\n",
      "    VACUUM_PERMITTIVITY = 8.85419e-12\n",
      "    a0 = 5.29177249e-11\n",
      "    c = 299792458.0\n",
      "    e0 = 1.60217738e-19\n",
      "    h = 6.6260754e-34\n",
      "    k = 1.380657e-23\n",
      "\n",
      "FILE\n",
      "    c:\\users\\electronica care\\anaconda3\\envs\\notebook\\lib\\site-packages\\pyopenms\\constants.py\n",
      "\n",
      "\n",
      "Avogadro number is  6.0221367e+23\n"
     ]
    }
   ],
   "source": [
    "import pyopenms\n",
    "help(pyopenms.Constants)\n",
    "print(\"Avogadro number is \",pyopenms.Constants.AVOGADRO)"
   ]
  },
  {
   "cell_type": "markdown",
   "id": "f9964af1",
   "metadata": {},
   "source": [
    "# pyopenms : provides access to constants such\n",
    "\n",
    "as Avogadro's number or the"
   ]
  },
  {
   "cell_type": "code",
   "execution_count": 11,
   "id": "cdee843f",
   "metadata": {},
   "outputs": [
    {
     "name": "stdout",
     "output_type": "stream",
     "text": [
      "Oxygen\n",
      "O\n",
      "15.994915\n",
      "15.999405323160001\n",
      "Sulfur\n",
      "S\n",
      "31.97207073\n",
      "32.066084735289\n"
     ]
    }
   ],
   "source": [
    "from pyopenms import *\n",
    "element=ElementDB()\n",
    "element.hasElement(\"O\")\n",
    "element.hasElement(\"S\")\n",
    "\n",
    "O=element.getElement(\"O\")\n",
    "print(O.getName())\n",
    "print(O.getSymbol())\n",
    "print(O.getMonoWeight())\n",
    "print(O.getAverageWeight())\n",
    "\n",
    "S=element.getElement(\"S\")\n",
    "print(S.getName())\n",
    "print(S.getSymbol())\n",
    "print(S.getMonoWeight())\n",
    "print(S.getAverageWeight())\n",
    "\n"
   ]
  },
  {
   "cell_type": "code",
   "execution_count": 17,
   "id": "100655e7",
   "metadata": {},
   "outputs": [
    {
     "name": "stdout",
     "output_type": "stream",
     "text": [
      "Oxygen isotope  15.994915 has abundance  99.75699782371521 %\n",
      "Oxygen isotope  16.999132 has abundance  0.03800000122282654 %\n",
      "Oxygen isotope  17.999169 has abundance  0.20500000100582838 %\n",
      "Sulfer isotope  31.97207073 has abundance  94.92999911308289 %\n",
      "Sulfer isotope  32.971458 has abundance  0.7600000128149986 %\n",
      "Sulfer isotope  33.967867 has abundance  4.2899999767541885 %\n",
      "Sulfer isotope  35.967081 has abundance  0.019999999494757503 %\n"
     ]
    }
   ],
   "source": [
    "o_iso={\"mass\":[],\"abundance\":[]}\n",
    "s_iso={\"mass\":[],\"abundance\":[]}\n",
    "\n",
    "istopes=O.getIsotopeDistribution()\n",
    "\n",
    "for iso in istopes.getContainer():\n",
    "    print(\"Oxygen isotope \",iso.getMZ(),\"has abundance \",iso.getIntensity()*100,\"%\")\n",
    "    o_iso[\"mass\"].append(iso.getMZ())\n",
    "    o_iso[\"abundance\"].append((iso.getIntensity()*100))\n",
    " \n",
    "\n",
    "istopes=S.getIsotopeDistribution()\n",
    "\n",
    "for iso in istopes.getContainer():\n",
    "    print(\"Sulfer isotope \",iso.getMZ(),\"has abundance \",iso.getIntensity()*100,\"%\")\n",
    "    s_iso[\"mass\"].append(iso.getMZ())\n",
    "    s_iso[\"abundance\"].append((iso.getIntensity()*100))\n",
    "   \n"
   ]
  },
  {
   "cell_type": "code",
   "execution_count": 20,
   "id": "9ead1467",
   "metadata": {},
   "outputs": [
    {
     "name": "stdout",
     "output_type": "stream",
     "text": [
      "1.0033550000000009\n",
      "0.9970350000000003\n"
     ]
    }
   ],
   "source": [
    "iso=element.getElement(\"C\").getIsotopeDistribution().getContainer()\n",
    "C_iso_def=iso[1].getMZ()-iso[0].getMZ()\n",
    "\n",
    "iso=element.getElement(\"N\").getIsotopeDistribution().getContainer()\n",
    "N_iso_def=iso[1].getMZ()-iso[0].getMZ()\n",
    "\n",
    "\n",
    "\n",
    "\n",
    "print(C_iso_def)\n",
    "print(N_iso_def)\n",
    "\n",
    "\n",
    "\n"
   ]
  },
  {
   "cell_type": "code",
   "execution_count": 23,
   "id": "1e2eaf24",
   "metadata": {},
   "outputs": [
    {
     "name": "stdout",
     "output_type": "stream",
     "text": [
      "Ethanol Chemcal Formula : C2H6O1\n",
      "Ethanol compistion :  {b'C': 2, b'H': 6, b'O': 1}\n",
      "Ethanol has : 6 Hydrogen atoms\n"
     ]
    }
   ],
   "source": [
    "methanol=EmpiricalFormula(\"CH3OH\")\n",
    "water=EmpiricalFormula(\"H2O\")\n",
    "ethanol=EmpiricalFormula(\"CH2\")+methanol\n",
    "\n",
    "print(\"Ethanol Chemcal Formula :\",ethanol.toString())\n",
    "print(\"Ethanol compistion : \", ethanol.getElementalComposition())\n",
    "print(\"Ethanol has :\",ethanol.getElementalComposition()[b\"H\"],\"Hydrogen atoms\")"
   ]
  },
  {
   "cell_type": "code",
   "execution_count": 35,
   "id": "6cdc2a4c",
   "metadata": {},
   "outputs": [
    {
     "name": "stdout",
     "output_type": "stream",
     "text": [
      "corse algorithm\n",
      "0.9999999753596569\n",
      "Isotope 46.0 has abundance 97.56627082824707 %\n",
      "Isotope 47.0 has abundance 2.214994840323925 %\n",
      "Isotope 48.0 has abundance 0.214216741733253 %\n",
      "Isotope 49.0 has abundance 0.0044886332034366205 %\n",
      "Isotope 50.0 has abundance 2.64924580051229e-05 %\n",
      "fine algorithm\n",
      "0.9999993089130612\n",
      "Isotope 46.0418651914 has abundance 97.5662887096405 %\n",
      "Isotope 47.0452201914 has abundance 2.110501006245613 %\n",
      "Isotope 47.046082191400004 has abundance 0.03716550418175757 %\n",
      "Isotope 47.0481419395 has abundance 0.06732848123647273 %\n",
      "Isotope 48.046119191399995 has abundance 0.20049810409545898 %\n",
      "Isotope 48.0485751914 has abundance 0.011413302854634821 %\n",
      "Isotope 48.0494371914 has abundance 0.0008039440217544325 %\n",
      "Isotope 48.0514969395 has abundance 0.0014564131561201066 %\n",
      "Isotope 49.049474191399995 has abundance 0.004337066275184043 %\n",
      "Isotope 49.0523959395 has abundance 0.00013835959862262825 %\n"
     ]
    }
   ],
   "source": [
    "methanol=EmpiricalFormula(\"CH3OH\")\n",
    "ethanol=EmpiricalFormula(\"CH2\")+methanol\n",
    "\n",
    "m_iso={\"mass\":[],\"abund\":[]}\n",
    "e_iso={\"mass\":[],\"abund\":[]}\n",
    "\n",
    "print(\"corse algorithm\")\n",
    "\n",
    "isotope=ethanol.getIsotopeDistribution(CoarseIsotopePatternGenerator(5,True))\n",
    "prop_sum=sum([iso.getIntensity() for iso in isotope.getContainer() ])\n",
    "print(prop_sum)\n",
    "\n",
    "for iso in  isotope.getContainer():\n",
    "    print (\"Isotope\", iso.getMZ(), \"has abundance\", iso.getIntensity()*100, \"%\")\n",
    "    m_iso[\"mass\"].append(iso.getMZ())\n",
    "    m_iso[\"abund\"].append((iso.getIntensity() * 100))\n",
    "    \n",
    "\n",
    "print(\"fine algorithm\")\n",
    "\n",
    "isotope=ethanol.getIsotopeDistribution(FineIsotopePatternGenerator(1e-6))\n",
    "prop_sum=sum([iso.getIntensity() for iso in isotope.getContainer() ])\n",
    "print(prop_sum)\n",
    "\n",
    "for iso in  isotope.getContainer():\n",
    "    print (\"Isotope\", iso.getMZ(), \"has abundance\", iso.getIntensity()*100, \"%\")\n",
    "    e_iso[\"mass\"].append(iso.getMZ())\n",
    "    e_iso[\"abund\"].append((iso.getIntensity() * 100))\n",
    "    \n",
    "\n",
    "    "
   ]
  },
  {
   "cell_type": "code",
   "execution_count": 37,
   "id": "36a0946d",
   "metadata": {},
   "outputs": [
    {
     "name": "stdout",
     "output_type": "stream",
     "text": [
      "Lysine\n",
      "Lys\n",
      "K\n",
      "146.18788276708443\n",
      "146.1055284466\n",
      "2.16\n",
      "C6H14N2O2\n"
     ]
    }
   ],
   "source": [
    "lys=ResidueDB().getResidue(\"Lysine\")\n",
    "print(lys.getName())\n",
    "print(lys.getThreeLetterCode())\n",
    "print(lys.getOneLetterCode())\n",
    "print(lys.getAverageWeight())\n",
    "print(lys.getMonoWeight())\n",
    "print(lys.getPka())\n",
    "print(lys.getFormula().toString())"
   ]
  },
  {
   "cell_type": "code",
   "execution_count": 39,
   "id": "57834b51",
   "metadata": {},
   "outputs": [
    {
     "name": "stdout",
     "output_type": "stream",
     "text": [
      "UniMod:35\n",
      "35\n",
      "15.994915\n",
      "Oxidation\n",
      "Oxidation (Y)\n",
      "Oxidation or Hydroxylation\n",
      "O1\n"
     ]
    }
   ],
   "source": [
    "o=ModificationsDB().getModification(\"Oxidation\")\n",
    "print(o.getUniModAccession())\n",
    "print(o.getUniModRecordId())\n",
    "print(o.getDiffMonoMass())\n",
    "print(o.getId())\n",
    "print(o.getFullId())\n",
    "print(o.getFullName())\n",
    "print(o.getDiffFormula())"
   ]
  },
  {
   "cell_type": "code",
   "execution_count": 40,
   "id": "6c58c052",
   "metadata": {},
   "outputs": [
    {
     "name": "stdout",
     "output_type": "stream",
     "text": [
      "15.994915 : 0.9975699782371521\n",
      "16.998269837800002 : 0.0003800000122282654\n",
      "18.0016246756 : 0.002050000010058284\n"
     ]
    }
   ],
   "source": [
    "isotopes = o.getDiffFormula().getIsotopeDistribution(CoarseIsotopePatternGenerator(5))\n",
    "for iso in isotopes.getContainer():\n",
    "    print (iso.getMZ(), \":\", iso.getIntensity())"
   ]
  },
  {
   "cell_type": "code",
   "execution_count": 42,
   "id": "4bca1032",
   "metadata": {},
   "outputs": [
    {
     "name": "stdout",
     "output_type": "stream",
     "text": [
      "uridine\n",
      "U\n",
      "244.2043\n",
      "244.0695\n",
      "C9H12N2O6\n",
      "False\n",
      "1-methyladenosine\n",
      "True\n",
      "C11H15N5O4\n"
     ]
    }
   ],
   "source": [
    "u = RibonucleotideDB().getRibonucleotide(b\"U\")\n",
    "print(u.getName())\n",
    "print(u.getCode())\n",
    "print(u.getAvgMass())\n",
    "print(u.getMonoMass())\n",
    "print(u.getFormula().toString())\n",
    "print(u.isModified())\n",
    "methyl = RibonucleotideDB().getRibonucleotide(b\"m1A\")\n",
    "print(methyl.getName())\n",
    "print(methyl.isModified())\n",
    "print(methyl.getFormula().toString())"
   ]
  },
  {
   "cell_type": "code",
   "execution_count": null,
   "id": "f00de7eb",
   "metadata": {},
   "outputs": [],
   "source": []
  },
  {
   "cell_type": "code",
   "execution_count": null,
   "id": "18a665f7",
   "metadata": {},
   "outputs": [],
   "source": []
  },
  {
   "cell_type": "code",
   "execution_count": null,
   "id": "eafe8863",
   "metadata": {},
   "outputs": [],
   "source": []
  },
  {
   "cell_type": "code",
   "execution_count": null,
   "id": "9ae408a1",
   "metadata": {},
   "outputs": [],
   "source": []
  },
  {
   "cell_type": "code",
   "execution_count": null,
   "id": "6330d62e",
   "metadata": {},
   "outputs": [],
   "source": []
  },
  {
   "cell_type": "code",
   "execution_count": null,
   "id": "f6fd2988",
   "metadata": {},
   "outputs": [],
   "source": []
  },
  {
   "cell_type": "code",
   "execution_count": null,
   "id": "cdcba989",
   "metadata": {},
   "outputs": [],
   "source": []
  },
  {
   "cell_type": "code",
   "execution_count": null,
   "id": "513ede37",
   "metadata": {},
   "outputs": [],
   "source": []
  },
  {
   "cell_type": "code",
   "execution_count": null,
   "id": "ce5646f2",
   "metadata": {},
   "outputs": [],
   "source": []
  },
  {
   "cell_type": "code",
   "execution_count": null,
   "id": "0ec031c8",
   "metadata": {},
   "outputs": [],
   "source": []
  },
  {
   "cell_type": "code",
   "execution_count": null,
   "id": "6dcc27ad",
   "metadata": {},
   "outputs": [],
   "source": []
  },
  {
   "cell_type": "code",
   "execution_count": null,
   "id": "639121f7",
   "metadata": {},
   "outputs": [],
   "source": []
  },
  {
   "cell_type": "code",
   "execution_count": null,
   "id": "c71b2495",
   "metadata": {},
   "outputs": [],
   "source": []
  },
  {
   "cell_type": "code",
   "execution_count": null,
   "id": "ab21abf6",
   "metadata": {},
   "outputs": [],
   "source": []
  },
  {
   "cell_type": "code",
   "execution_count": null,
   "id": "297a69b6",
   "metadata": {},
   "outputs": [],
   "source": []
  },
  {
   "cell_type": "code",
   "execution_count": null,
   "id": "cf099173",
   "metadata": {},
   "outputs": [],
   "source": []
  },
  {
   "cell_type": "code",
   "execution_count": null,
   "id": "cda59edc",
   "metadata": {},
   "outputs": [],
   "source": []
  },
  {
   "cell_type": "code",
   "execution_count": null,
   "id": "feaf5bcd",
   "metadata": {},
   "outputs": [],
   "source": []
  },
  {
   "cell_type": "code",
   "execution_count": null,
   "id": "bf8c2b50",
   "metadata": {},
   "outputs": [],
   "source": []
  },
  {
   "cell_type": "code",
   "execution_count": null,
   "id": "76824969",
   "metadata": {},
   "outputs": [],
   "source": []
  },
  {
   "cell_type": "code",
   "execution_count": null,
   "id": "1b342b3c",
   "metadata": {},
   "outputs": [],
   "source": []
  },
  {
   "cell_type": "code",
   "execution_count": null,
   "id": "0c843c92",
   "metadata": {},
   "outputs": [],
   "source": []
  },
  {
   "cell_type": "code",
   "execution_count": null,
   "id": "9c3789f8",
   "metadata": {},
   "outputs": [],
   "source": []
  },
  {
   "cell_type": "code",
   "execution_count": null,
   "id": "9fbf6bf5",
   "metadata": {},
   "outputs": [],
   "source": []
  },
  {
   "cell_type": "code",
   "execution_count": null,
   "id": "d2a6369e",
   "metadata": {},
   "outputs": [],
   "source": []
  },
  {
   "cell_type": "code",
   "execution_count": null,
   "id": "e35ca206",
   "metadata": {},
   "outputs": [],
   "source": []
  }
 ],
 "metadata": {
  "kernelspec": {
   "display_name": "Python 3",
   "language": "python",
   "name": "python3"
  },
  "language_info": {
   "codemirror_mode": {
    "name": "ipython",
    "version": 3
   },
   "file_extension": ".py",
   "mimetype": "text/x-python",
   "name": "python",
   "nbconvert_exporter": "python",
   "pygments_lexer": "ipython3",
   "version": "3.8.10"
  }
 },
 "nbformat": 4,
 "nbformat_minor": 5
}
