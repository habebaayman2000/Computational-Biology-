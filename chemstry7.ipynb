{
 "cells": [
  {
   "cell_type": "code",
   "execution_count": 5,
   "id": "67b9a915",
   "metadata": {},
   "outputs": [],
   "source": [
    "from urllib.request import urlretrieve\n",
    "from pyopenms import *\n",
    "gh=\"https://raw.githubusercontent.com/OpenMS/pyopenms-extra/master\"\n",
    "urlretrieve(gh+\"/src/data/YIC(Carbamidomethyl)DNQDTISSK.mzML\",\"observed.mzML\")\n",
    "exp=MSExperiment()\n",
    "MzMLFile().load(\"observed.mzML\",exp)\n",
    "spectra=exp.getSpectra()\n",
    "observed_spec=spectra[0]\n",
    "\n",
    "tsg=TheoreticalSpectrumGenerator()\n",
    "theo_spectrum=MSSpectrum()\n",
    "p=tsg.getParameters()\n",
    "p.setValue(\"add_y_ions\",\"true\")\n",
    "p.setValue(\"add_b_ions\",\"true\")\n",
    "p.setValue(\"add_metainfo\",\"true\")\n",
    "tsg.setParameters(p)\n",
    "peptide=AASequence.fromString(\"YIC(Carbamidomethyl)DNQDTISSK\")\n",
    "tsg.getSpectrum(theo_spectrum,peptide,1,2)"
   ]
  },
  {
   "cell_type": "code",
   "execution_count": null,
   "id": "3cf28ef7",
   "metadata": {},
   "outputs": [],
   "source": []
  },
  {
   "cell_type": "code",
   "execution_count": null,
   "id": "d4996cda",
   "metadata": {},
   "outputs": [],
   "source": []
  },
  {
   "cell_type": "code",
   "execution_count": 6,
   "id": "5f1f8942",
   "metadata": {},
   "outputs": [
    {
     "name": "stdout",
     "output_type": "stream",
     "text": [
      "212.012451171875\n",
      "795.2837524414062\n"
     ]
    },
    {
     "data": {
      "image/png": "[encoded data removed]",
      "text/plain": [
       "<Figure size 864x576 with 1 Axes>"
      ]
     },
     "metadata": {
      "needs_background": "light"
     },
     "output_type": "display_data"
    }
   ],
   "source": [
    "import numpy as np\n",
    "from matplotlib import pyplot as plt\n",
    "def mirror_plot(obs_mz,obs_int,theo_mz,theo_int,title):\n",
    "    obs_int=[element/max(obs_int)for element in obs_int]\n",
    "    theo_int=[element*-1 for element in theo_int]\n",
    "    plt.figure(figsize=(12,8))\n",
    "    plt.bar(obs_mz,obs_int,width=3.0)\n",
    "    plt.bar(theo_mz,theo_int,width=3.0)\n",
    "    plt.title(title)\n",
    "    plt.ylabel('intensity')\n",
    "    plt.xlabel('m/z')\n",
    "obs_mz,obs_int=observed_spec.get_peaks()\n",
    "\n",
    "print(min(obs_mz))\n",
    "print(max(obs_mz))\n",
    "theo_mz,theo_int=[],[]\n",
    "for mz,intensity in zip(*theo_spectrum.get_peaks()):\n",
    "    if mz>=200.0 and mz<=800.0:\n",
    "        theo_mz.append(mz)\n",
    "        theo_int.append(intensity)\n",
    "title='Observed vs theoretical spectrum'\n",
    "mirror_plot(obs_mz,obs_int,theo_mz,theo_int,title)"
   ]
  },
  {
   "cell_type": "code",
   "execution_count": null,
   "id": "30a19e73",
   "metadata": {},
   "outputs": [],
   "source": []
  },
  {
   "cell_type": "code",
   "execution_count": 7,
   "id": "c3b61dbb",
   "metadata": {},
   "outputs": [
    {
     "name": "stdout",
     "output_type": "stream",
     "text": [
      "Number of matched peaks:16\n",
      "ion\ttheo. m/z\tobserved m/z\n",
      "y2+/t1/t234.14483407287105/t234.12303161621094\n",
      "y5++/t2/t268.15794163667096/t268.1054382324219\n",
      "b2+/t1/t277.154670104771/t277.24560546875\n",
      "y3+/t1/t321.17686323237103/t321.2969970703125\n",
      "y4+/t1/t434.26092758327104/t434.2879638671875\n",
      "b3+/t1/t437.185319089971/t437.291259765625\n",
      "y5+/t1/t535.308606806571/t535.18896484375\n",
      "b4+/t1/t552.212263249471/t552.3375244140625\n",
      "b9++/t2/t562.239866948271/t562.4213256835938\n",
      "y10++/t2/t584.2509635120709/t584.4120483398438\n",
      "y11++/t2/t640.7929956875209/t640.9539184570312\n",
      "b11++/t2/t649.2718961077711/t649.0973510742188\n",
      "y6+/t1/t650.335550966071/t650.3652954101562\n",
      "b5+/t1/t666.255191440871/t666.1763305664062\n",
      "y7+/t1/t778.394129221271/t778.3391723632812\n",
      "b6+/t1/t794.3137696960711/t794.192138671875\n"
     ]
    }
   ],
   "source": [
    "alignment=[]\n",
    "spa=SpectrumAlignment()\n",
    "p=spa.getParameters()\n",
    "p.setValue(\"tolerance\",0.5)\n",
    "p.setValue(\"is_relative_tolerance\",\"false\")\n",
    "spa.setParameters(p)\n",
    "spa.getSpectrumAlignment(alignment,theo_spectrum,observed_spec)\n",
    "\n",
    "print(\"Number of matched peaks:\"+str(len(alignment)))\n",
    "print(\"ion\\ttheo. m/z\\tobserved m/z\")\n",
    "for theo_idx,obs_idx in alignment:\n",
    "    ion_name=theo_spectrum.getStringDataArrays()[0][theo_idx].decode()\n",
    "    ion_charge= theo_spectrum.getIntegerDataArrays()[0][theo_idx]\n",
    "    print(ion_name+\"/t\"+str(ion_charge)+\"/t\"\n",
    "    +str(theo_spectrum[theo_idx].getMZ())\n",
    "    +\"/t\"+str(observed_spec[obs_idx].getMZ()))"
   ]
  },
  {
   "cell_type": "code",
   "execution_count": null,
   "id": "78d0d500",
   "metadata": {},
   "outputs": [],
   "source": []
  },
  {
   "cell_type": "code",
   "execution_count": null,
   "id": "c2214003",
   "metadata": {},
   "outputs": [],
   "source": [
    "theo_mz,theo_int,obs_mz,obs_int=[],[],[],[]\n",
    "for theo_idx,obs_idx in alignment:\n",
    "    theo_mz.append(theo_spectrum[theo_idx].getMZ())\n",
    "    theo_int.append(theo_spectrum[theo_idx].getIntensity())\n",
    "    obs_mz.append(observed_spec[obs_idx].getMZ())\n",
    "    theo_int.append(theo_spectrum[theo_idx].getIntensity())\n",
    "title='Observed vs theoretical spectrum'\n",
    "mirror_plot(obs_mz,obs_int,theo_mz,theo_int,title)"
   ]
  },
  {
   "cell_type": "code",
   "execution_count": null,
   "id": "d6f20e14",
   "metadata": {},
   "outputs": [],
   "source": []
  },
  {
   "cell_type": "code",
   "execution_count": null,
   "id": "526a9a7c",
   "metadata": {},
   "outputs": [],
   "source": []
  },
  {
   "cell_type": "code",
   "execution_count": null,
   "id": "d0db55be",
   "metadata": {},
   "outputs": [],
   "source": []
  }
 ],
 "metadata": {
  "kernelspec": {
   "display_name": "Python 3",
   "language": "python",
   "name": "python3"
  },
  "language_info": {
   "codemirror_mode": {
    "name": "ipython",
    "version": 3
   },
   "file_extension": ".py",
   "mimetype": "text/x-python",
   "name": "python",
   "nbconvert_exporter": "python",
   "pygments_lexer": "ipython3",
   "version": "3.8.10"
  }
 },
 "nbformat": 4,
 "nbformat_minor": 5
}
